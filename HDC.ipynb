{
 "cells": [
  {
   "cell_type": "code",
   "execution_count": 35,
   "id": "4432a8a9",
   "metadata": {},
   "outputs": [],
   "source": [
    "import tensorflow as tf\n",
    "import numpy as np\n",
    "import matplotlib.pyplot as plt\n",
    "import cv2\n",
    "from tensorflow.python.keras import activations\n",
    "from tensorflow.python.keras.activations import softmax\n",
    "from tensorflow.python.keras.metrics import accuracy"
   ]
  },
  {
   "cell_type": "code",
   "execution_count": 36,
   "id": "49de3101",
   "metadata": {},
   "outputs": [],
   "source": [
    "data=tf.keras.datasets.mnist"
   ]
  },
  {
   "cell_type": "code",
   "execution_count": 37,
   "id": "3d271581",
   "metadata": {},
   "outputs": [],
   "source": [
    "(x_train,y_train),(x_test,y_test)=data.load_data()"
   ]
  },
  {
   "cell_type": "code",
   "execution_count": 38,
   "id": "55b44226",
   "metadata": {},
   "outputs": [
    {
     "name": "stdout",
     "output_type": "stream",
     "text": [
      "[[  0   0   0   0   0   0   0   0   0   0   0   0   0   0   0   0   0   0\n",
      "    0   0   0   0   0   0   0   0   0   0]\n",
      " [  0   0   0   0   0   0   0   0   0   0   0   0   0   0   0   0   0   0\n",
      "    0   0   0   0   0   0   0   0   0   0]\n",
      " [  0   0   0   0   0   0   0   0   0   0   0   0   0   0   0   0   0   0\n",
      "    0   0   0   0   0   0   0   0   0   0]\n",
      " [  0   0   0   0   0   0   0   0   0   0   0   0   0   0   0   0   0   0\n",
      "    0   0   0   0   0   0   0   0   0   0]\n",
      " [  0   0   0   0   0   0   0   0   0   0   0   0   0   0   0   0   0   0\n",
      "    0   0   0   0   0   0   0   0   0   0]\n",
      " [  0   0   0   0   0   0   0   0   0   0   0   0   3  18  18  18 126 136\n",
      "  175  26 166 255 247 127   0   0   0   0]\n",
      " [  0   0   0   0   0   0   0   0  30  36  94 154 170 253 253 253 253 253\n",
      "  225 172 253 242 195  64   0   0   0   0]\n",
      " [  0   0   0   0   0   0   0  49 238 253 253 253 253 253 253 253 253 251\n",
      "   93  82  82  56  39   0   0   0   0   0]\n",
      " [  0   0   0   0   0   0   0  18 219 253 253 253 253 253 198 182 247 241\n",
      "    0   0   0   0   0   0   0   0   0   0]\n",
      " [  0   0   0   0   0   0   0   0  80 156 107 253 253 205  11   0  43 154\n",
      "    0   0   0   0   0   0   0   0   0   0]\n",
      " [  0   0   0   0   0   0   0   0   0  14   1 154 253  90   0   0   0   0\n",
      "    0   0   0   0   0   0   0   0   0   0]\n",
      " [  0   0   0   0   0   0   0   0   0   0   0 139 253 190   2   0   0   0\n",
      "    0   0   0   0   0   0   0   0   0   0]\n",
      " [  0   0   0   0   0   0   0   0   0   0   0  11 190 253  70   0   0   0\n",
      "    0   0   0   0   0   0   0   0   0   0]\n",
      " [  0   0   0   0   0   0   0   0   0   0   0   0  35 241 225 160 108   1\n",
      "    0   0   0   0   0   0   0   0   0   0]\n",
      " [  0   0   0   0   0   0   0   0   0   0   0   0   0  81 240 253 253 119\n",
      "   25   0   0   0   0   0   0   0   0   0]\n",
      " [  0   0   0   0   0   0   0   0   0   0   0   0   0   0  45 186 253 253\n",
      "  150  27   0   0   0   0   0   0   0   0]\n",
      " [  0   0   0   0   0   0   0   0   0   0   0   0   0   0   0  16  93 252\n",
      "  253 187   0   0   0   0   0   0   0   0]\n",
      " [  0   0   0   0   0   0   0   0   0   0   0   0   0   0   0   0   0 249\n",
      "  253 249  64   0   0   0   0   0   0   0]\n",
      " [  0   0   0   0   0   0   0   0   0   0   0   0   0   0  46 130 183 253\n",
      "  253 207   2   0   0   0   0   0   0   0]\n",
      " [  0   0   0   0   0   0   0   0   0   0   0   0  39 148 229 253 253 253\n",
      "  250 182   0   0   0   0   0   0   0   0]\n",
      " [  0   0   0   0   0   0   0   0   0   0  24 114 221 253 253 253 253 201\n",
      "   78   0   0   0   0   0   0   0   0   0]\n",
      " [  0   0   0   0   0   0   0   0  23  66 213 253 253 253 253 198  81   2\n",
      "    0   0   0   0   0   0   0   0   0   0]\n",
      " [  0   0   0   0   0   0  18 171 219 253 253 253 253 195  80   9   0   0\n",
      "    0   0   0   0   0   0   0   0   0   0]\n",
      " [  0   0   0   0  55 172 226 253 253 253 253 244 133  11   0   0   0   0\n",
      "    0   0   0   0   0   0   0   0   0   0]\n",
      " [  0   0   0   0 136 253 253 253 212 135 132  16   0   0   0   0   0   0\n",
      "    0   0   0   0   0   0   0   0   0   0]\n",
      " [  0   0   0   0   0   0   0   0   0   0   0   0   0   0   0   0   0   0\n",
      "    0   0   0   0   0   0   0   0   0   0]\n",
      " [  0   0   0   0   0   0   0   0   0   0   0   0   0   0   0   0   0   0\n",
      "    0   0   0   0   0   0   0   0   0   0]\n",
      " [  0   0   0   0   0   0   0   0   0   0   0   0   0   0   0   0   0   0\n",
      "    0   0   0   0   0   0   0   0   0   0]]\n"
     ]
    }
   ],
   "source": [
    "print(x_train[0])"
   ]
  },
  {
   "cell_type": "code",
   "execution_count": 85,
   "id": "894878bc",
   "metadata": {},
   "outputs": [],
   "source": [
    "x_train=tf.keras.utils.normalize(x_train,axis=1)\n",
    "x_test=tf.keras.utils.normalize(x_test,axis=1)"
   ]
  },
  {
   "cell_type": "code",
   "execution_count": 86,
   "id": "2c2652be",
   "metadata": {},
   "outputs": [],
   "source": [
    "model=tf.keras.models.Sequential()\n",
    "from tensorflow.keras.layers import Dense, Dropout, Activation, Flatten, Conv2D, MaxPooling2D\n",
    "model.add(tf.keras.layers.Flatten(input_shape=(28,28)))\n",
    "model.add(tf.keras.layers.Dense(units=128,activation=tf.nn.relu))\n",
    "model.add(tf.keras.layers.Dense(units=128,activation=tf.nn.relu))\n",
    "model.add(tf.keras.layers.Dense(units=10,activation=tf.nn.softmax)) \n"
   ]
  },
  {
   "cell_type": "code",
   "execution_count": 87,
   "id": "8f1c2002",
   "metadata": {},
   "outputs": [],
   "source": [
    "# # Creating a neural network now\n",
    "# model = Sequential()\n",
    "# #First convolution layer 0 1 2 3 (60000,28,28,1) 28-3+1=26 26*26\n",
    "# model.add(Conv2D(64,(3,3), input_shape=x_train.shape[1:])) #only for first convulation layer to mention inpur size\n",
    "# model.add(Activation(\"relu\")) #activation function to make it non linear,values <0 are removed\n",
    "# model.add(MaxPooling2D(pool_size=(2,2))) #Maxpooling single maximum value of (2*2)\n",
    "\n",
    "# #second convolution layer\n",
    "# model.add(Conv2D(64,(3,3)))\n",
    "# model.add(Activation(\"relu\"))\n",
    "# model.add(MaxPooling2D(pool_size=(2,2)))\n",
    "          \n",
    "# #Third convolution layer\n",
    "# model.add(Conv2D(64,(3,3)))\n",
    "# model.add(Activation(\"relu\"))\n",
    "# model.add(MaxPooling2D(pool_size=(2,2)))\n",
    "          \n",
    "# #Fully connected layer #1\n",
    "# model.add(Flatten()) #Before using Fully connected layer need to flatten bcz 2D to 1D\n",
    "# model.add(Dense(64))\n",
    "# model.add(Activation(\"relu\"))\n",
    "          \n",
    "# #Fully Connected layer #2\n",
    "# model.add(Dense(32))\n",
    "# model.add(Activation(\"relu\"))\n",
    "          \n",
    "# #Last Fully Connected layer ,Output must be equal to number of classes ,10(0 to 9)\n",
    "# model.add(Dense(10)) # last layer dense must be equal to 10\n",
    "# model.add(Activation(\"softmax\")) #activation function is changed to softmax (gives class probablities)\n",
    "# # Binary classification, one neuron in ecah layer,sigmoid"
   ]
  },
  {
   "cell_type": "code",
   "execution_count": 88,
   "id": "7b31bf79",
   "metadata": {},
   "outputs": [],
   "source": [
    "model.compile(optimizer='adam' ,loss='sparse_categorical_crossentropy',metrics=['accuracy'])"
   ]
  },
  {
   "cell_type": "code",
   "execution_count": 114,
   "id": "0113571e",
   "metadata": {},
   "outputs": [
    {
     "name": "stdout",
     "output_type": "stream",
     "text": [
      "Epoch 1/30\n",
      "1875/1875 [==============================] - 6s 3ms/step - loss: 0.0522 - accuracy: 0.9833\n",
      "Epoch 2/30\n",
      "1875/1875 [==============================] - 10s 5ms/step - loss: 0.0381 - accuracy: 0.9876\n",
      "Epoch 3/30\n",
      "1875/1875 [==============================] - 12s 6ms/step - loss: 0.0319 - accuracy: 0.9896\n",
      "Epoch 4/30\n",
      "1875/1875 [==============================] - 11s 6ms/step - loss: 0.0249 - accuracy: 0.9920\n",
      "Epoch 5/30\n",
      "1875/1875 [==============================] - 10s 5ms/step - loss: 0.0197 - accuracy: 0.9930\n",
      "Epoch 6/30\n",
      "1875/1875 [==============================] - 13s 7ms/step - loss: 0.0168 - accuracy: 0.9941\n",
      "Epoch 7/30\n",
      "1875/1875 [==============================] - 10s 6ms/step - loss: 0.0145 - accuracy: 0.9953\n",
      "Epoch 8/30\n",
      "1875/1875 [==============================] - 11s 6ms/step - loss: 0.0133 - accuracy: 0.9951\n",
      "Epoch 9/30\n",
      "1875/1875 [==============================] - 13s 7ms/step - loss: 0.0126 - accuracy: 0.9958\n",
      "Epoch 10/30\n",
      "1875/1875 [==============================] - 10s 6ms/step - loss: 0.0111 - accuracy: 0.9962\n",
      "Epoch 11/30\n",
      "1875/1875 [==============================] - 10s 5ms/step - loss: 0.0092 - accuracy: 0.9969\n",
      "Epoch 12/30\n",
      "1875/1875 [==============================] - 12s 7ms/step - loss: 0.0113 - accuracy: 0.9963\n",
      "Epoch 13/30\n",
      "1875/1875 [==============================] - 11s 6ms/step - loss: 0.0078 - accuracy: 0.9971\n",
      "Epoch 14/30\n",
      "1875/1875 [==============================] - 10s 5ms/step - loss: 0.0084 - accuracy: 0.9975\n",
      "Epoch 15/30\n",
      "1875/1875 [==============================] - 12s 6ms/step - loss: 0.0085 - accuracy: 0.9970\n",
      "Epoch 16/30\n",
      "1875/1875 [==============================] - 11s 6ms/step - loss: 0.0079 - accuracy: 0.9971\n",
      "Epoch 17/30\n",
      "1875/1875 [==============================] - 10s 6ms/step - loss: 0.0076 - accuracy: 0.9973\n",
      "Epoch 18/30\n",
      "1875/1875 [==============================] - 10s 5ms/step - loss: 0.0072 - accuracy: 0.9976\n",
      "Epoch 19/30\n",
      "1875/1875 [==============================] - 12s 6ms/step - loss: 0.0058 - accuracy: 0.9982\n",
      "Epoch 20/30\n",
      "1875/1875 [==============================] - 10s 5ms/step - loss: 0.0084 - accuracy: 0.9973\n",
      "Epoch 21/30\n",
      "1875/1875 [==============================] - 11s 6ms/step - loss: 0.0070 - accuracy: 0.9976\n",
      "Epoch 22/30\n",
      "1875/1875 [==============================] - 12s 6ms/step - loss: 0.0070 - accuracy: 0.9980\n",
      "Epoch 23/30\n",
      "1875/1875 [==============================] - 10s 5ms/step - loss: 0.0060 - accuracy: 0.9981\n",
      "Epoch 24/30\n",
      "1875/1875 [==============================] - 10s 5ms/step - loss: 0.0074 - accuracy: 0.9976\n",
      "Epoch 25/30\n",
      "1875/1875 [==============================] - 12s 7ms/step - loss: 0.0065 - accuracy: 0.9980\n",
      "Epoch 26/30\n",
      "1875/1875 [==============================] - 10s 5ms/step - loss: 0.0062 - accuracy: 0.9984\n",
      "Epoch 27/30\n",
      "1875/1875 [==============================] - 10s 5ms/step - loss: 0.0070 - accuracy: 0.9978\n",
      "Epoch 28/30\n",
      "1875/1875 [==============================] - 12s 6ms/step - loss: 0.0033 - accuracy: 0.9989\n",
      "Epoch 29/30\n",
      "1875/1875 [==============================] - 10s 5ms/step - loss: 0.0058 - accuracy: 0.9981\n",
      "Epoch 30/30\n",
      "1875/1875 [==============================] - 10s 6ms/step - loss: 0.0050 - accuracy: 0.9984\n"
     ]
    },
    {
     "data": {
      "text/plain": [
       "<keras.callbacks.History at 0x20fbe15b640>"
      ]
     },
     "execution_count": 114,
     "metadata": {},
     "output_type": "execute_result"
    }
   ],
   "source": [
    "model.fit(x_train,y_train,epochs=30)"
   ]
  },
  {
   "cell_type": "code",
   "execution_count": 115,
   "id": "e9583eca",
   "metadata": {},
   "outputs": [
    {
     "name": "stdout",
     "output_type": "stream",
     "text": [
      "313/313 [==============================] - 1s 3ms/step - loss: 0.2207 - accuracy: 0.9717\n"
     ]
    }
   ],
   "source": [
    "loss,accuracy=model.evaluate(x_test,y_test)"
   ]
  },
  {
   "cell_type": "code",
   "execution_count": 116,
   "id": "bfbc5888",
   "metadata": {},
   "outputs": [
    {
     "name": "stdout",
     "output_type": "stream",
     "text": [
      "0.9717000126838684\n",
      "0.22074677050113678\n"
     ]
    }
   ],
   "source": [
    "print(accuracy)\n",
    "print(loss)"
   ]
  },
  {
   "cell_type": "code",
   "execution_count": 117,
   "id": "351bb512",
   "metadata": {},
   "outputs": [
    {
     "name": "stdout",
     "output_type": "stream",
     "text": [
      "INFO:tensorflow:Assets written to: digits.model\\assets\n"
     ]
    }
   ],
   "source": [
    "model.save('digits.model')"
   ]
  },
  {
   "cell_type": "code",
   "execution_count": 119,
   "id": "d41667b2",
   "metadata": {},
   "outputs": [
    {
     "name": "stdout",
     "output_type": "stream",
     "text": [
      "313/313 [==============================] - 1s 3ms/step\n"
     ]
    }
   ],
   "source": [
    "predictions=model.predict(x_test)"
   ]
  },
  {
   "cell_type": "code",
   "execution_count": 120,
   "id": "f1a0d6b0",
   "metadata": {},
   "outputs": [
    {
     "name": "stdout",
     "output_type": "stream",
     "text": [
      "[[1.6651952e-20 8.1480890e-20 2.0377549e-16 ... 1.0000000e+00\n",
      "  9.2499203e-19 1.7934057e-14]\n",
      " [0.0000000e+00 8.3683213e-25 1.0000000e+00 ... 1.7464814e-35\n",
      "  2.2906732e-38 0.0000000e+00]\n",
      " [2.4308075e-19 1.0000000e+00 2.1413183e-14 ... 5.6149780e-14\n",
      "  4.1297946e-12 1.7485489e-19]\n",
      " ...\n",
      " [6.4975858e-35 4.2262429e-25 1.3493494e-28 ... 5.9123712e-21\n",
      "  1.4702242e-21 5.7896613e-21]\n",
      " [1.1258126e-27 1.0400336e-23 2.3354035e-26 ... 2.8415899e-25\n",
      "  2.6247404e-13 3.9511047e-33]\n",
      " [1.7338778e-25 1.5230773e-33 1.3771318e-31 ... 1.3352902e-33\n",
      "  1.0523368e-24 1.3754921e-26]]\n"
     ]
    }
   ],
   "source": [
    "print(predictions)"
   ]
  },
  {
   "cell_type": "code",
   "execution_count": 121,
   "id": "cb529534",
   "metadata": {},
   "outputs": [
    {
     "name": "stdout",
     "output_type": "stream",
     "text": [
      "7\n"
     ]
    }
   ],
   "source": [
    "print(np.argmax(predictions[0])) "
   ]
  },
  {
   "cell_type": "code",
   "execution_count": 169,
   "id": "e918da6c",
   "metadata": {},
   "outputs": [
    {
     "data": {
      "text/plain": [
       "<matplotlib.image.AxesImage at 0x20fbe010e20>"
      ]
     },
     "execution_count": 169,
     "metadata": {},
     "output_type": "execute_result"
    },
    {
     "data": {
      "image/png": "[encoded data removed]",
      "text/plain": [
       "<Figure size 432x288 with 1 Axes>"
      ]
     },
     "metadata": {
      "needs_background": "light"
     },
     "output_type": "display_data"
    }
   ],
   "source": [
    "plt.imshow(x_test[0])"
   ]
  },
  {
   "cell_type": "code",
   "execution_count": 172,
   "id": "419fd81b",
   "metadata": {},
   "outputs": [],
   "source": [
    "# print(np.argmax(predictions[219]))"
   ]
  },
  {
   "cell_type": "code",
   "execution_count": 173,
   "id": "fe3a3e77",
   "metadata": {},
   "outputs": [
    {
     "data": {
      "text/plain": [
       "<matplotlib.image.AxesImage at 0x20fd691a5b0>"
      ]
     },
     "execution_count": 173,
     "metadata": {},
     "output_type": "execute_result"
    },
    {
     "data": {
      "image/png": "[encoded data removed]",
      "text/plain": [
       "<Figure size 432x288 with 1 Axes>"
      ]
     },
     "metadata": {
      "needs_background": "light"
     },
     "output_type": "display_data"
    }
   ],
   "source": [
    "plt.imshow(x_test[219])"
   ]
  },
  {
   "cell_type": "code",
   "execution_count": 186,
   "id": "f411975e",
   "metadata": {},
   "outputs": [],
   "source": [
    "img=cv2.imread(\"Seven.png\")"
   ]
  },
  {
   "cell_type": "code",
   "execution_count": 187,
   "id": "2eb34884",
   "metadata": {},
   "outputs": [
    {
     "data": {
      "text/plain": [
       "<matplotlib.image.AxesImage at 0x20fbd4d2be0>"
      ]
     },
     "execution_count": 187,
     "metadata": {},
     "output_type": "execute_result"
    },
    {
     "data": {
      "image/png": "[encoded data removed]",
      "text/plain": [
       "<Figure size 432x288 with 1 Axes>"
      ]
     },
     "metadata": {
      "needs_background": "light"
     },
     "output_type": "display_data"
    }
   ],
   "source": [
    "plt.imshow(img)"
   ]
  },
  {
   "cell_type": "code",
   "execution_count": 188,
   "id": "29653550",
   "metadata": {},
   "outputs": [
    {
     "data": {
      "text/plain": [
       "(1480, 1490, 3)"
      ]
     },
     "execution_count": 188,
     "metadata": {},
     "output_type": "execute_result"
    }
   ],
   "source": [
    "img.shape"
   ]
  },
  {
   "cell_type": "code",
   "execution_count": 189,
   "id": "7713cdf7",
   "metadata": {},
   "outputs": [],
   "source": [
    "gray=cv2.cvtColor(img,cv2.COLOR_BGR2GRAY)"
   ]
  },
  {
   "cell_type": "code",
   "execution_count": 190,
   "id": "e3c6852c",
   "metadata": {},
   "outputs": [
    {
     "data": {
      "text/plain": [
       "(1480, 1490)"
      ]
     },
     "execution_count": 190,
     "metadata": {},
     "output_type": "execute_result"
    }
   ],
   "source": [
    "gray.shape"
   ]
  },
  {
   "cell_type": "code",
   "execution_count": 191,
   "id": "fea84fb3",
   "metadata": {},
   "outputs": [],
   "source": [
    "resized=cv2.resize(gray,(28,28),interpolation=cv2.INTER_AREA)"
   ]
  },
  {
   "cell_type": "code",
   "execution_count": 192,
   "id": "c8e3dc71",
   "metadata": {},
   "outputs": [
    {
     "data": {
      "text/plain": [
       "(28, 28)"
      ]
     },
     "execution_count": 192,
     "metadata": {},
     "output_type": "execute_result"
    }
   ],
   "source": [
    "resized.shape"
   ]
  },
  {
   "cell_type": "code",
   "execution_count": 193,
   "id": "c80d5f70",
   "metadata": {},
   "outputs": [],
   "source": [
    "newimg=tf.keras.utils.normalize(resized,axis=1)"
   ]
  },
  {
   "cell_type": "code",
   "execution_count": 194,
   "id": "7bc91b8b",
   "metadata": {},
   "outputs": [],
   "source": [
    "newimg=np.array(newimg).reshape(-1,28,28,1)"
   ]
  },
  {
   "cell_type": "code",
   "execution_count": 195,
   "id": "4a94c38d",
   "metadata": {},
   "outputs": [
    {
     "data": {
      "text/plain": [
       "(1, 28, 28, 1)"
      ]
     },
     "execution_count": 195,
     "metadata": {},
     "output_type": "execute_result"
    }
   ],
   "source": [
    "newimg.shape"
   ]
  },
  {
   "cell_type": "code",
   "execution_count": 196,
   "id": "e88a0f0b",
   "metadata": {},
   "outputs": [
    {
     "name": "stdout",
     "output_type": "stream",
     "text": [
      "1/1 [==============================] - 0s 35ms/step\n"
     ]
    }
   ],
   "source": [
    "predictions = model.predict(newimg)"
   ]
  },
  {
   "cell_type": "code",
   "execution_count": 197,
   "id": "146952a0",
   "metadata": {},
   "outputs": [
    {
     "name": "stdout",
     "output_type": "stream",
     "text": [
      "7\n"
     ]
    }
   ],
   "source": [
    "print(np.argmax(predictions))"
   ]
  }
 ],
 "metadata": {
  "kernelspec": {
   "display_name": "Python 3",
   "language": "python",
   "name": "python3"
  },
  "language_info": {
   "codemirror_mode": {
    "name": "ipython",
    "version": 3
   },
   "file_extension": ".py",
   "mimetype": "text/x-python",
   "name": "python",
   "nbconvert_exporter": "python",
   "pygments_lexer": "ipython3",
   "version": "3.8.8"
  }
 },
 "nbformat": 4,
 "nbformat_minor": 5
}
